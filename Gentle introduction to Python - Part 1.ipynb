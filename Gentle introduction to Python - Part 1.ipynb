{
  "nbformat": 4,
  "nbformat_minor": 0,
  "metadata": {
    "colab": {
      "name": "Untitled0.ipynb",
      "provenance": [],
      "collapsed_sections": []
    },
    "kernelspec": {
      "name": "python3",
      "display_name": "Python 3"
    },
    "language_info": {
      "name": "python"
    }
  },
  "cells": [
    {
      "cell_type": "code",
      "metadata": {
        "colab": {
          "base_uri": "https://localhost:8080/"
        },
        "id": "unaQGUF18m9x",
        "outputId": "3ae8dcfd-c261-4843-93f6-764e660dac3b"
      },
      "source": [
        "# Create a variable a which is equal to 2, create a variable b which is equal to 7. Create a variable c which is equal to 23, only using a and b (no additional numbers)\n",
        "a = 2\n",
        "b = 7\n",
        "c = (a+b)*a+(b-a)\n",
        "c\n"
      ],
      "execution_count": 31,
      "outputs": [
        {
          "output_type": "execute_result",
          "data": {
            "text/plain": [
              "23"
            ]
          },
          "metadata": {},
          "execution_count": 31
        }
      ]
    },
    {
      "cell_type": "code",
      "metadata": {
        "id": "R5W_6cxl805I"
      },
      "source": [
        "# Using the variables in the previous exercise (a = 2 and b = 7), make sure you print the following sentence: 'a + b is equal to 9'\n",
        "print('a + b is equal to ' + str(a+b))"
      ],
      "execution_count": null,
      "outputs": []
    },
    {
      "cell_type": "code",
      "metadata": {
        "colab": {
          "base_uri": "https://localhost:8080/"
        },
        "id": "700PWx1UtZw9",
        "outputId": "8e3eb99c-f1c2-49f3-f426-f760017470cf"
      },
      "source": [
        "# Write a function where you can insert a number and get the square of that number\n",
        "def square(number):\n",
        "  result = number ** 2\n",
        "  return (result)\n",
        "\n",
        "square(7)"
      ],
      "execution_count": 9,
      "outputs": [
        {
          "output_type": "execute_result",
          "data": {
            "text/plain": [
              "49"
            ]
          },
          "metadata": {},
          "execution_count": 9
        }
      ]
    },
    {
      "cell_type": "code",
      "metadata": {
        "colab": {
          "base_uri": "https://localhost:8080/"
        },
        "id": "V-4qTT5lu2IF",
        "outputId": "56a78356-da20-455f-f88e-e9b6b0ca8176"
      },
      "source": [
        "#Delete name from my_dict using del. What is the length of my_dict\n",
        "my_dict = dict()\n",
        "my_dict = {'name' : 'John', 'state':'Florida', 'age':26}\n",
        "del my_dict ['name']\n",
        "print(my_dict)\n",
        "\n",
        "print (len(my_dict))"
      ],
      "execution_count": 13,
      "outputs": [
        {
          "output_type": "stream",
          "name": "stdout",
          "text": [
            "{'state': 'Florida', 'age': 26}\n",
            "2\n"
          ]
        }
      ]
    },
    {
      "cell_type": "code",
      "metadata": {
        "colab": {
          "base_uri": "https://localhost:8080/"
        },
        "id": "fSBQTNkyxdC8",
        "outputId": "d0821991-1b90-416e-bb52-5d0922d04b9f"
      },
      "source": [
        "#Can you also print the even numbers from the list below using list comprehension\n",
        "exercise_list = [1,2,4,6,7,8,11,14,16,19,20]\n",
        "even_numbers = [ exercise_list[i] for i in range (len(exercise_list))if exercise_list[i]%2==0]\n",
        "print(even_numbers)"
      ],
      "execution_count": 30,
      "outputs": [
        {
          "output_type": "stream",
          "name": "stdout",
          "text": [
            "[2, 4, 6, 8, 14, 16, 20]\n"
          ]
        }
      ]
    },
    {
      "cell_type": "code",
      "metadata": {
        "colab": {
          "base_uri": "https://localhost:8080/"
        },
        "id": "H5QZznamzQzP",
        "outputId": "a384c1a7-6f17-48d5-f751-f84ea1fe140f"
      },
      "source": [
        "#Can you also create a list that contains the squares of all values in exercise_list\n",
        "exercise_list = [1,2,4,6,7,8,11,14,16,19,20]\n",
        "exercise_squares = [exercise_list[i]**2 for i in range(len(exercise_list))]\n",
        "print(exercise_squares)"
      ],
      "execution_count": 16,
      "outputs": [
        {
          "output_type": "stream",
          "name": "stdout",
          "text": [
            "[1, 4, 16, 36, 49, 64, 121, 196, 256, 361, 400]\n"
          ]
        }
      ]
    },
    {
      "cell_type": "code",
      "metadata": {
        "colab": {
          "base_uri": "https://localhost:8080/"
        },
        "id": "e8ez8Ef71WZW",
        "outputId": "3733861f-916c-4eee-e3b0-3ade00dfd79d"
      },
      "source": [
        "#Print the even numbers from the list below\n",
        "exercise_list = [1,2,4,6,7,8,11,14,16,19,20]\n",
        "for i in exercise_list:\n",
        "  if i%2==0: print (i)"
      ],
      "execution_count": 22,
      "outputs": [
        {
          "output_type": "stream",
          "name": "stdout",
          "text": [
            "2\n",
            "4\n",
            "6\n",
            "8\n",
            "14\n",
            "16\n",
            "20\n"
          ]
        }
      ]
    }
  ]
}