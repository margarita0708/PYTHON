{
  "nbformat": 4,
  "nbformat_minor": 0,
  "metadata": {
    "colab": {
      "name": "Untitled4.ipynb",
      "provenance": [],
      "collapsed_sections": []
    },
    "kernelspec": {
      "name": "python3",
      "display_name": "Python 3"
    },
    "language_info": {
      "name": "python"
    }
  },
  "cells": [
    {
      "cell_type": "code",
      "metadata": {
        "colab": {
          "base_uri": "https://localhost:8080/",
          "height": 296
        },
        "id": "vD8Iu6lj7jQ1",
        "outputId": "07359ae2-5c7f-4191-f06a-8fcf5999cb7c"
      },
      "source": [
        "# Import packages\n",
        "import numpy as np\n",
        "import pandas as pd\n",
        "import matplotlib.pyplot as plt\n",
        "%matplotlib inline\n",
        "# Add a grid to the plot\n",
        "plt.grid()\n",
        "\n",
        "plt.xlabel('X1')\n",
        "plt.ylabel('X2')\n",
        "\n",
        "# Create the first constraint\n",
        "X1 = np.linspace(0,150)\n",
        "X2 = 150 - X1\n",
        "\n",
        "# Create the plot\n",
        "plt.plot(X1, X2, label = r'$X2 \\leq 150 - X1$')\n",
        "plt.plot(X1, 60*np.ones_like(X2), label = r'$X1 \\leq 200 $')\n",
        "\n",
        "# Create the first constraint\n",
        "X1 = np.linspace(0,200)\n",
        "X2 = (200 - X1)/3\n",
        "\n",
        "# Create the plot\n",
        "plt.plot(X1, X2, label = r'$X2*3 \\leq 200 - X1$')\n",
        "\n",
        "#plt.plot(X1, 60*np.ones_like(X2), label = r'$X1 \\leq 0 $')\n",
        "#plt.plot(X1, X2, label = r'$X1 \\leq 200 - X2$')\n",
        "\n",
        "#plt.plot(2000*np.ones_like(X1), X2, label=r'$X2 \\leq 150$')\n",
        "\n",
        "\n",
        "# Add the feasible region\n",
        "d = np.linspace(-5,170,300)\n",
        "X1,X2 = np.meshgrid(d,d)\n",
        "plt.imshow( ((X1 >= 0) & (X2 >= 0)  & (X2 <= 60) & (X1 + X2 <= 150)& (X1 + 3*X2 <= 200)).astype(int) , \n",
        "                extent=(X1.min(),X1.max(),X2.min(),X2.max()),origin=\"lower\", cmap=\"Greys\", alpha = 0.3);\n",
        "\n",
        "plt.legend(loc = 1)"
      ],
      "execution_count": 2,
      "outputs": [
        {
          "output_type": "execute_result",
          "data": {
            "text/plain": [
              "<matplotlib.legend.Legend at 0x7f76712ebd50>"
            ]
          },
          "metadata": {},
          "execution_count": 2
        },
        {
          "output_type": "display_data",
          "data": {
            "image/png": "[encoded data removed]",
            "text/plain": [
              "<Figure size 432x288 with 1 Axes>"
            ]
          },
          "metadata": {
            "needs_background": "light"
          }
        }
      ]
    },
    {
      "cell_type": "code",
      "metadata": {
        "colab": {
          "base_uri": "https://localhost:8080/"
        },
        "id": "aR8gOHbhCEio",
        "outputId": "1a9a9112-5a4d-43fe-84a0-05cd121f956c"
      },
      "source": [
        "# install pyomo, if needed\n",
        "import shutil\n",
        "if not shutil.which(\"pyomo\"):\n",
        "    !pip install -q pyomo\n",
        "    assert(shutil.which(\"pyomo\"))\n",
        "    \n",
        "# import the package\n",
        "import pyomo.environ as pyo"
      ],
      "execution_count": 3,
      "outputs": [
        {
          "output_type": "stream",
          "name": "stdout",
          "text": [
            "\u001b[K     |████████████████████████████████| 9.1 MB 5.2 MB/s \n",
            "\u001b[K     |████████████████████████████████| 49 kB 5.6 MB/s \n",
            "\u001b[?25h"
          ]
        }
      ]
    },
    {
      "cell_type": "code",
      "metadata": {
        "colab": {
          "base_uri": "https://localhost:8080/"
        },
        "id": "TJsWfrOWCJa9",
        "outputId": "23eec813-1478-41f5-caef-930686538091"
      },
      "source": [
        "import shutil\n",
        "import os\n",
        "import sys\n",
        "\n",
        "if not (shutil.which(\"cbc\") or os.path.isfile(\"cbc\")):\n",
        "    # this way we discover if we are runing in colab\n",
        "    if \"google.colab\" in sys.modules:\n",
        "        !apt-get install -y -qq coinor-cbc\n",
        "        assert(shutil.which(\"cbc\") or os.path.isfile(\"cbc\"))\n",
        "        solver = pyo.SolverFactory( 'cbc' )\n",
        "    else: \n",
        "        if os.name == 'nt': # you are running your notebook on Windows\n",
        "            # get your cbc from https://bintray.com/coin-or/download/Cbc\n",
        "            # and change the executable location accordingly \n",
        "            try:\n",
        "                solver = pyo.SolverFactory( 'cbc', executable='D:/src/solvers/cbc 2.9/bin/cbc.exe' )\n",
        "                # only uncomment if you have a (academic?) licensed version of gurobi\n",
        "                # solver = pyo.SolverFactory( 'gurobi' )\n",
        "            except:\n",
        "                pass\n",
        "        else:\n",
        "            # we assume the Anaconda Jupyter distribution on Linux of Mac\n",
        "            try:\n",
        "                !conda install -c conda-forge coincbc \n",
        "            except:\n",
        "                pass\n",
        "\n",
        "            assert(shutil.which(\"cbc\") or os.path.isfile(\"cbc\"))\n",
        "            solver = pyo.SolverFactory( 'cbc' )"
      ],
      "execution_count": 4,
      "outputs": [
        {
          "output_type": "stream",
          "name": "stdout",
          "text": [
            "Selecting previously unselected package coinor-libcoinutils3v5.\n",
            "(Reading database ... 148492 files and directories currently installed.)\n",
            "Preparing to unpack .../0-coinor-libcoinutils3v5_2.10.14+repack1-1_amd64.deb ...\n",
            "Unpacking coinor-libcoinutils3v5 (2.10.14+repack1-1) ...\n",
            "Selecting previously unselected package coinor-libosi1v5.\n",
            "Preparing to unpack .../1-coinor-libosi1v5_0.107.9+repack1-1_amd64.deb ...\n",
            "Unpacking coinor-libosi1v5 (0.107.9+repack1-1) ...\n",
            "Selecting previously unselected package coinor-libclp1.\n",
            "Preparing to unpack .../2-coinor-libclp1_1.16.11+repack1-1_amd64.deb ...\n",
            "Unpacking coinor-libclp1 (1.16.11+repack1-1) ...\n",
            "Selecting previously unselected package coinor-libcgl1.\n",
            "Preparing to unpack .../3-coinor-libcgl1_0.59.10+repack1-1_amd64.deb ...\n",
            "Unpacking coinor-libcgl1 (0.59.10+repack1-1) ...\n",
            "Selecting previously unselected package coinor-libcbc3.\n",
            "Preparing to unpack .../4-coinor-libcbc3_2.9.9+repack1-1_amd64.deb ...\n",
            "Unpacking coinor-libcbc3 (2.9.9+repack1-1) ...\n",
            "Selecting previously unselected package coinor-cbc.\n",
            "Preparing to unpack .../5-coinor-cbc_2.9.9+repack1-1_amd64.deb ...\n",
            "Unpacking coinor-cbc (2.9.9+repack1-1) ...\n",
            "Setting up coinor-libcoinutils3v5 (2.10.14+repack1-1) ...\n",
            "Setting up coinor-libosi1v5 (0.107.9+repack1-1) ...\n",
            "Setting up coinor-libclp1 (1.16.11+repack1-1) ...\n",
            "Setting up coinor-libcgl1 (0.59.10+repack1-1) ...\n",
            "Setting up coinor-libcbc3 (2.9.9+repack1-1) ...\n",
            "Setting up coinor-cbc (2.9.9+repack1-1) ...\n",
            "Processing triggers for man-db (2.8.3-2ubuntu0.1) ...\n",
            "Processing triggers for libc-bin (2.27-3ubuntu1.2) ...\n",
            "/sbin/ldconfig.real: /usr/local/lib/python3.7/dist-packages/ideep4py/lib/libmkldnn.so.0 is not a symbolic link\n",
            "\n"
          ]
        }
      ]
    },
    {
      "cell_type": "code",
      "metadata": {
        "id": "0vyLh5rNCVRl"
      },
      "source": [
        "def OptimizationModel(price_X1, price_X2, max_X2, solver = solver):\n",
        "\n",
        "    # Create a model\n",
        "    model = pyo.ConcreteModel()\n",
        "\n",
        "    # Add variables which are non-negative and integer\n",
        "    model.x = pyo.Var([1,2], domain=pyo.NonNegativeIntegers)\n",
        "\n",
        "    model.OBJ = pyo.Objective(expr = price_X1 * model.x[1] + price_X2 * model.x[2], sense = pyo.maximize)\n",
        "\n",
        "    model.Constraint1 = pyo.Constraint( expr = model.x[1] + model.x[2] <= 150)\n",
        "    model.Constraint2 = pyo.Constraint( expr = model.x[1] + model.x[2]*3 <= 200)\n",
        "  \n",
        "    model.Constraint3 = pyo.Constraint( expr = model.x[2] <= max_X2)\n",
        "\n",
        "    results = solver.solve(model)\n",
        "\n",
        "    return model.OBJ.expr(), model.x[1].value, model.x[2].value"
      ],
      "execution_count": 5,
      "outputs": []
    },
    {
      "cell_type": "code",
      "metadata": {
        "id": "u6diEFR8CZSg",
        "outputId": "c569f614-a57f-426e-a4c9-abf67e49e701",
        "colab": {
          "base_uri": "https://localhost:8080/"
        }
      },
      "source": [
        "results, X1, X2 = OptimizationModel(1, 2,  60 ) \n",
        "print('The optimal solution has ' + str(X1) + ' Product1 and ' + str(X2) + ' Product2 and has a revenue of ' + str(results))"
      ],
      "execution_count": 6,
      "outputs": [
        {
          "output_type": "stream",
          "name": "stdout",
          "text": [
            "The optimal solution has 125.0 Product1 and 25.0 Product2 and has a revenue of 175.0\n"
          ]
        }
      ]
    }
  ]
}